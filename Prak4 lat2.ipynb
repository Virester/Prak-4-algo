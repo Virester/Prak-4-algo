{
 "cells": [
  {
   "cell_type": "code",
   "execution_count": 1,
   "id": "b8dfa8a6",
   "metadata": {},
   "outputs": [
    {
     "name": "stdout",
     "output_type": "stream",
     "text": [
      "This program will determine the number of days of a given month\n",
      "Enter -1 to stop the program\n",
      "Enter the month (1-12): 5\n",
      "There are 31 days in the month\n",
      "Enter -1 to stop the program\n",
      "Enter the month (1-12): -1\n",
      "Terima kasih sudah menggunakan program saya. Sampai berjumpa lagi.\n"
     ]
    }
   ],
   "source": [
    "selesai = False\n",
    "\n",
    "print (\"This program will determine the number of days of a given month\")\n",
    "while (not selesai):\n",
    "    print(\"Enter -1 to stop the program\")\n",
    "    month = int(input(\"Enter the month (1-12): \"))\n",
    "    \n",
    "    if month in [-1, 1, 2, 3, 4, 5, 6, 7, 8, 9, 10, 11, 12]:\n",
    "        if month == -1:\n",
    "            selesai = True\n",
    "        elif month in [1, 3, 5, 7, 8, 10, 12]:\n",
    "            print (\"There are 31 days in the month\")\n",
    "        elif month in [4, 6, 9, 11]:\n",
    "            print(\"There are 30 days in the month\")\n",
    "        elif month == 2:\n",
    "            year = int(input(\"Please enter the year (e.g., 2021): \"))\n",
    "            if (year % 4 == 0) and (not (year % 100 == 0) or (year % 400 == 0)):\n",
    "                print (\"There are 29 days in the month\")\n",
    "            else:\n",
    "                print(\"There are 28 days in the month\")\n",
    "    else:\n",
    "        print(\"* Invalid value entered: \", month, \" *\")\n",
    "\n",
    "print(\"Terima kasih sudah menggunakan program saya. Sampai berjumpa lagi.\")"
   ]
  },
  {
   "cell_type": "code",
   "execution_count": null,
   "id": "317f465f",
   "metadata": {},
   "outputs": [],
   "source": []
  },
  {
   "cell_type": "code",
   "execution_count": null,
   "id": "1b30e6d6",
   "metadata": {},
   "outputs": [],
   "source": []
  }
 ],
 "metadata": {
  "kernelspec": {
   "display_name": "Python 3 (ipykernel)",
   "language": "python",
   "name": "python3"
  },
  "language_info": {
   "codemirror_mode": {
    "name": "ipython",
    "version": 3
   },
   "file_extension": ".py",
   "mimetype": "text/x-python",
   "name": "python",
   "nbconvert_exporter": "python",
   "pygments_lexer": "ipython3",
   "version": "3.9.12"
  }
 },
 "nbformat": 4,
 "nbformat_minor": 5
}
